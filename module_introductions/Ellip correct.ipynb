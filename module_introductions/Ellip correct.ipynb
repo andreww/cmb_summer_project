{
 "cells": [
  {
   "cell_type": "markdown",
   "metadata": {},
   "source": [
    "## Setup\n",
    "You need to build the Fortran into python extension modules before you do anything else. I did this:\n",
    "\n",
    "    cd .../tools/ellippy/src\n",
    "    python setup.py install --home='../../packages/'\n",
    "    \n",
    "then, before starting the notebook server:\n",
    "\n",
    "    export PYTHONPATH=\"../tools:../:../tools/packages/lib/python/\"\n",
    "    \n",
    "to get access to our stuff"
   ]
  },
  {
   "cell_type": "code",
   "execution_count": 1,
   "metadata": {
    "collapsed": false
   },
   "outputs": [],
   "source": [
    "%matplotlib inline\n",
    "import matplotlib \n",
    "import matplotlib.pyplot as plt\n",
    "import mpl_toolkits.basemap as basemap\n",
    "# Make the figures big\n",
    "plt.rcParams['figure.figsize'] = (12, 8)\n",
    "\n",
    "import pandas\n",
    "import numpy as np\n",
    "\n",
    "# Get access to taup\n",
    "import obspy.taup\n",
    "\n",
    "# Our ISC parser\n",
    "import read_ISC\n",
    "\n",
    "# ellip correction\n",
    "import ellippy"
   ]
  },
  {
   "cell_type": "code",
   "execution_count": 2,
   "metadata": {
    "collapsed": true
   },
   "outputs": [],
   "source": [
    "# Now setup direct access tables\n",
    "ellippy.ellip_setup()"
   ]
  },
  {
   "cell_type": "code",
   "execution_count": 5,
   "metadata": {
    "collapsed": false
   },
   "outputs": [
    {
     "name": "stdout",
     "output_type": "stream",
     "text": [
      "0.576326668262\n"
     ]
    }
   ],
   "source": [
    "# Corrections can be calculated thus:\n",
    "src_lat = 10.0\n",
    "src_depth = 10.0\n",
    "azim = 10.0\n",
    "delta = 10.0\n",
    "phase = 'PcP'\n",
    "print ellippy.ellip_correct(src_lat, src_depth, azim, delta, phase)"
   ]
  },
  {
   "cell_type": "code",
   "execution_count": null,
   "metadata": {
    "collapsed": true
   },
   "outputs": [],
   "source": []
  }
 ],
 "metadata": {
  "kernelspec": {
   "display_name": "Python 2",
   "language": "python",
   "name": "python2"
  },
  "language_info": {
   "codemirror_mode": {
    "name": "ipython",
    "version": 2
   },
   "file_extension": ".py",
   "mimetype": "text/x-python",
   "name": "python",
   "nbconvert_exporter": "python",
   "pygments_lexer": "ipython2",
   "version": "2.7.10"
  }
 },
 "nbformat": 4,
 "nbformat_minor": 0
}

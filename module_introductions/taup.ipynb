{
 "metadata": {
  "name": "",
  "signature": "sha256:8518563207a3976a08ed7a6f0d31d00f34e57f115cc2045ea13644aab60a32e9"
 },
 "nbformat": 3,
 "nbformat_minor": 0,
 "worksheets": [
  {
   "cells": [
    {
     "cell_type": "heading",
     "level": 1,
     "metadata": {},
     "source": [
      "Running taup with ObsPy"
     ]
    },
    {
     "cell_type": "markdown",
     "metadata": {},
     "source": [
      "We are going to need to predict travel times for different seismic \n",
      "phases and various Earth models. We can do this using the `obspy.taup`\n",
      "module. ObsPy \"is an open-source project dedicated to provide a Python \n",
      "framework for processing seismological data\" which is presented as a\n",
      "Python _package_. This notebook covers installation of ObsPy and a \n",
      "brief overview of `obspy.taup`, which (as of version 0.10.1) is a \n",
      "reimplementation of the Java TauP toolkit in Python (and C). Documentation\n",
      "for `obspy.taup` is at http://docs.obspy.org/packages/obspy.taup.html and\n",
      "the Java implementation (with includes an outline of the methods used)\n",
      "can be found at http://www.seis.sc.edu/taup/."
     ]
    },
    {
     "cell_type": "heading",
     "level": 2,
     "metadata": {},
     "source": [
      "Installation"
     ]
    },
    {
     "cell_type": "markdown",
     "metadata": {},
     "source": [
      "Assuming you are running Anaconda, ObsPy (including taup) can\n",
      "be installed with:\n",
      "\n",
      "    conda install -c obspy obspy\n",
      "    \n",
      "from the shell. No other modules are needed to run this \n",
      "notebook."
     ]
    },
    {
     "cell_type": "heading",
     "level": 2,
     "metadata": {},
     "source": [
      "From an Earth model to travel times "
     ]
    },
    {
     "cell_type": "markdown",
     "metadata": {},
     "source": [
      "We first need to import taup, then create an Earth \n",
      "model."
     ]
    },
    {
     "cell_type": "code",
     "collapsed": false,
     "input": [
      "# Get access to taup\n",
      "import obspy.taup\n",
      "\n",
      "# Create the Earth model\n",
      "# iasp91 is built in and \n",
      "# distributed with the code\n",
      "earth_model = obspy.taup.TauPyModel(model=\"iasp91\")"
     ],
     "language": "python",
     "metadata": {},
     "outputs": []
    },
    {
     "cell_type": "markdown",
     "metadata": {},
     "source": [
      "We can now use `earth_model` to calculate travel times. \n",
      "The first argument to `get_travel_times` is the source\n",
      "depth (in km), the second is the epicentral distance \n",
      "(in degrees). The list of phases is optional, but it \n",
      "keeps the list of arrivals to a reasonable length. Notice\n",
      "how printing the arrivals gives formatted data."
     ]
    },
    {
     "cell_type": "code",
     "collapsed": false,
     "input": [
      "arrivals = earth_model.get_travel_times(150, 80, phase_list=['PcP','P'])\n",
      "print arrivals"
     ],
     "language": "python",
     "metadata": {},
     "outputs": []
    },
    {
     "cell_type": "markdown",
     "metadata": {},
     "source": [
      "Our variable `arrivals` is an object containing a list of\n",
      "`Arrival` objects. If we want to access the travel time \n",
      "directly (e.g. to calculate the PcP-P differential travel \n",
      "time) we need to make use of the `.time` attribute."
     ]
    },
    {
     "cell_type": "code",
     "collapsed": false,
     "input": [
      "PcP_P_time = arrivals[1].time - arrivals[0].time\n",
      "print 'PcP-P differential travel time is {: f} s'.format(PcP_P_time)"
     ],
     "language": "python",
     "metadata": {},
     "outputs": []
    },
    {
     "cell_type": "heading",
     "level": 2,
     "metadata": {},
     "source": [
      "Other methods"
     ]
    },
    {
     "cell_type": "markdown",
     "metadata": {},
     "source": [
      "It is also possible to calculate ray paths and\n",
      "pierce points using the `get_ray_paths` and \n",
      "`get_pierce_points` methods. These take \n",
      "the same arguments as `get_travel_times` but\n",
      "return more data which lives in numpy arrays."
     ]
    },
    {
     "cell_type": "code",
     "collapsed": false,
     "input": [
      "arrivals = earth_model.get_ray_paths(150, 80, phase_list=['PcP','P'])\n",
      "print arrivals\n",
      "print type(arrivals[0].path) # This data is too large to print"
     ],
     "language": "python",
     "metadata": {},
     "outputs": []
    },
    {
     "cell_type": "code",
     "collapsed": false,
     "input": [
      "arrivals = earth_model.get_pierce_points(150, 80, phase_list=['PcP','P'])\n",
      "print arrivals\n",
      "arrivals[1].pierce # This is more reasonable"
     ],
     "language": "python",
     "metadata": {},
     "outputs": []
    },
    {
     "cell_type": "markdown",
     "metadata": {},
     "source": [
      "These methods can be used for plotting. We first need to tell ipython to plot inside the notebook."
     ]
    },
    {
     "cell_type": "code",
     "collapsed": false,
     "input": [
      "%matplotlib inline  \n",
      "arrivals = earth_model.get_ray_paths(150, 80, phase_list=['PcP','P'])\n",
      "arrivals.plot()  "
     ],
     "language": "python",
     "metadata": {},
     "outputs": []
    },
    {
     "cell_type": "heading",
     "level": 2,
     "metadata": {},
     "source": [
      "Performance"
     ]
    },
    {
     "cell_type": "markdown",
     "metadata": {},
     "source": [
      "If we want to use this a lot, it will be useful to know how \n",
      "fast it goes. Creating a new model instance is supposed to \n",
      "be quite slow, but the core loops are in C. If we are only\n",
      "interested in a few phases, it is worth saying so."
     ]
    },
    {
     "cell_type": "code",
     "collapsed": false,
     "input": [
      "%%timeit\n",
      "arrivals = earth_model.get_travel_times(150, 80, phase_list=['PcP','P'])"
     ],
     "language": "python",
     "metadata": {},
     "outputs": []
    },
    {
     "cell_type": "code",
     "collapsed": false,
     "input": [
      "%%timeit\n",
      "arrivals = earth_model.get_travel_times(150, 80)"
     ],
     "language": "python",
     "metadata": {},
     "outputs": []
    },
    {
     "cell_type": "code",
     "collapsed": false,
     "input": [],
     "language": "python",
     "metadata": {},
     "outputs": []
    }
   ],
   "metadata": {}
  }
 ]
}
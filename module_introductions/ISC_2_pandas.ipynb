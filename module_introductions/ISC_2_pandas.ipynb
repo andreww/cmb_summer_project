{
 "metadata": {
  "name": "",
  "signature": "sha256:8203fdc327dd9ddd3f34eb208cc1ba7a5dabda3365b62d33cb6dabe3409a0a25"
 },
 "nbformat": 3,
 "nbformat_minor": 0,
 "worksheets": [
  {
   "cells": [
    {
     "cell_type": "heading",
     "level": 1,
     "metadata": {},
     "source": [
      "Bits of code to load ISC data into pandas and plot"
     ]
    },
    {
     "cell_type": "markdown",
     "metadata": {},
     "source": [
      "First, we need a function to parse the date and time \n",
      "strings into something useful. Remember:\n",
      "\n",
      "> Our units of temporal measurement, from seconds on up to months,\n",
      "are so complicated, asymmetrical and disjunctive so as to make coherent\n",
      "mental reckoning in time all but impossible. Indeed, had some tyrannical\n",
      "god contrived to enslave our minds to time, to make it all but impossible\n",
      "for us to escape subjection to sodden routines and unpleasant surprises,\n",
      "he could hardly have done better than handing down our present system.\n",
      "It is like a set of trapezoidal building blocks, with no vertical or\n",
      "horizontal surfaces, like a language in which the simplest thought\n",
      "demands ornate constructions, useless particles and lengthy circumlocutions.\n",
      "Unlike the more successful patterns of language and science, which enable\n",
      "us to face experience boldly or at least level-headedly, our system of\n",
      "temporal calculation silently and persistently encourages our terror of time. ...\n",
      ">\n",
      "It is as though architects had to measure length in feet, width in meters and height\n",
      "in ells; as though basic instruction manuals demanded a knowledge of five different\n",
      "languages. It is no wonder then that we often look into our own immediate past or\n",
      "future, last Tuesday or a week from Sunday, with feelings of helpless confusion. ...\n",
      ">\n",
      ">                    \u2014 Robert Grudin, Time and the Art of Living.\n",
      "\n",
      "but actually, we will ignore all that and just use `datetime`."
     ]
    },
    {
     "cell_type": "code",
     "collapsed": false,
     "input": [
      "import datetime\n",
      "def make_datetime(date, time):\n",
      "    \"\"\"Date and time are strings\"\"\"\n",
      "    yr, mo, dy = date.split('-', 3)\n",
      "    hr, mi, se = time.split(':', 3)\n",
      "    # Sometimes we don't have a decimal\n",
      "    if (len(se) == 2):\n",
      "        mse = 0\n",
      "    else:\n",
      "        se, mse = se.split('.',2)\n",
      "    # We assume we have 2 dp of seconds,\n",
      "    # and convert the value (0 - 99) to\n",
      "    # microseconds\n",
      "    dati = datetime.datetime(int(yr), int(mo), \n",
      "                             int(dy), int(hr), \n",
      "                             int(mi), int(se),\n",
      "                             int(mse)*10000 )\n",
      "    return dati\n",
      "    "
     ],
     "language": "python",
     "metadata": {},
     "outputs": []
    },
    {
     "cell_type": "markdown",
     "metadata": {},
     "source": [
      "Now open a file and read each pick into a dict. If we are interested\n",
      "stick it in big dict by phase. Use `eventid+station+reporter` as\n",
      "the key - this makes things quick later."
     ]
    },
    {
     "cell_type": "code",
     "collapsed": false,
     "input": [
      "fh = open('../data/ISC_Jan_2012_trim.dat', 'r')\n",
      "# lists, for the types of pick\n",
      "PcP_picks = {}\n",
      "P_picks = {}\n",
      "for line in fh:\n",
      "    # New dictionary for this pick\n",
      "    thispick = {}\n",
      "    words = line.split(',')\n",
      "    thispick['eventid'] = words[0].strip()\n",
      "    thispick['reporter'] = words[1].strip()\n",
      "    thispick['station'] = words[2].strip()\n",
      "    thispick['station_lat'] = float(words[3].strip())\n",
      "    thispick['station_lon'] = float(words[4].strip())\n",
      "    thispick['station_elev'] = float(words[5].strip())\n",
      "    thispick['epicentral_distance'] = float(words[7].strip())\n",
      "    thispick['backazimuth'] = float(words[8].strip())\n",
      "    thispick['phase'] = words[9].strip()\n",
      "    thispick['pick_datetime'] = make_datetime(words[11].strip(), words[12].strip())\n",
      "    thispick['event_datetime'] = make_datetime(words[18].strip(), words[19].strip())\n",
      "    thispick['event_lat'] = float(words[20].strip())\n",
      "    thispick['event_lon'] = float(words[21].strip())\n",
      "    thispick['event_depth'] = float(words[22].strip())\n",
      "    # Sometimes the same reporter reports the same phase at the same station\n",
      "    # more than once. We just use the most recent.\n",
      "    if thispick['phase'] == 'PcP':\n",
      "        PcP_picks[thispick['eventid']+thispick['station']+thispick['reporter']] = thispick\n",
      "    elif thispick['phase'] == 'P':\n",
      "        P_picks[thispick['eventid']+thispick['station']+thispick['reporter']] = thispick\n",
      "fh.close()\n",
      "\n",
      "print len(PcP_picks)\n",
      "print len(P_picks)\n"
     ],
     "language": "python",
     "metadata": {},
     "outputs": []
    },
    {
     "cell_type": "markdown",
     "metadata": {},
     "source": [
      "Make a new dict of pairs of phases, and calculate the \n",
      "differential travel time."
     ]
    },
    {
     "cell_type": "code",
     "collapsed": false,
     "input": [
      "pick_pairs = {}\n",
      "count = 0\n",
      "# Find the P's given the PcP's (if we have them)\n",
      "for event_station in PcP_picks:\n",
      "    if event_station in P_picks:\n",
      "        PcP_pick = PcP_picks[event_station]\n",
      "        P_pick = P_picks[event_station]\n",
      "        thispick = {}\n",
      "        thispick['event_lat'] = PcP_pick['event_lat']\n",
      "        thispick['event_lon'] = PcP_pick['event_lon']\n",
      "        thispick['event_depth'] = PcP_pick['event_depth']\n",
      "        thispick['event_datetime'] = PcP_pick['event_datetime']\n",
      "        thispick['station'] = PcP_pick['station']\n",
      "        thispick['reporter'] = PcP_pick['reporter']\n",
      "        thispick['eventid'] = PcP_pick['eventid']\n",
      "        thispick['station_lat'] = PcP_pick['station_lat']\n",
      "        thispick['station_lon'] = PcP_pick['station_lon']\n",
      "        thispick['station_elev'] = PcP_pick['station_elev']\n",
      "        thispick['epicentral_distance'] = PcP_pick['epicentral_distance']\n",
      "        thispick['backazimuth'] = PcP_pick['backazimuth']\n",
      "        thispick['PcP_datetime'] = PcP_pick['pick_datetime']\n",
      "        thispick['P_datetime'] = P_pick['pick_datetime']\n",
      "        thispick['P_ttime'] = P_pick['pick_datetime'] - P_pick['event_datetime']\n",
      "        thispick['PcP_ttime'] = PcP_pick['pick_datetime'] - PcP_pick['event_datetime']\n",
      "        # Plotting routines don't like timedeltas...\n",
      "        thispick['PcP_P_dtime'] = thispick['PcP_ttime'].total_seconds() - thispick['P_ttime'].total_seconds()\n",
      "        pick_pairs[event_station] = thispick\n",
      "print len(pick_pairs)"
     ],
     "language": "python",
     "metadata": {},
     "outputs": []
    },
    {
     "cell_type": "heading",
     "level": 2,
     "metadata": {},
     "source": [
      "Pandas"
     ]
    },
    {
     "cell_type": "markdown",
     "metadata": {},
     "source": [
      "We will now stuff the results into a pandas dataFrame for\n",
      "easy plotting (and we can do stats and stuff, once we \n",
      "have theoretical travel times)."
     ]
    },
    {
     "cell_type": "code",
     "collapsed": false,
     "input": [
      "import pandas"
     ],
     "language": "python",
     "metadata": {},
     "outputs": []
    },
    {
     "cell_type": "code",
     "collapsed": false,
     "input": [
      "pick_pairs_df = pandas.DataFrame.from_dict(pick_pairs, orient='index')"
     ],
     "language": "python",
     "metadata": {},
     "outputs": []
    },
    {
     "cell_type": "code",
     "collapsed": false,
     "input": [
      "pick_pairs_df"
     ],
     "language": "python",
     "metadata": {},
     "outputs": []
    },
    {
     "cell_type": "code",
     "collapsed": false,
     "input": [
      "%matplotlib inline\n",
      "\n",
      "pick_pairs_df.plot(kind='scatter', x='epicentral_distance', y='PcP_P_dtime')"
     ],
     "language": "python",
     "metadata": {},
     "outputs": []
    },
    {
     "cell_type": "code",
     "collapsed": false,
     "input": [
      "pick_pairs_df[(pick_pairs_df.epicentral_distance < 80) & \n",
      "              (pick_pairs_df.epicentral_distance > 70)].plot(\n",
      "                 kind='scatter', x='epicentral_distance', y='PcP_P_dtime')"
     ],
     "language": "python",
     "metadata": {},
     "outputs": []
    },
    {
     "cell_type": "code",
     "collapsed": false,
     "input": [],
     "language": "python",
     "metadata": {},
     "outputs": []
    }
   ],
   "metadata": {}
  }
 ]
}
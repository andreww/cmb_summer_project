{
 "cells": [
  {
   "cell_type": "markdown",
   "metadata": {},
   "source": [
    "# Computing traveltime/slowness derivatives with respect to CMB radius deviations"
   ]
  },
  {
   "cell_type": "markdown",
   "metadata": {},
   "source": [
    "In order to go from traveltime deviations to deviations in CMB topography, we need to know how the traveltime is affected by a given deviation in the radius of the CMB at the bouncepoint.  (This make a linearising assumption that the bouncepoint is the same, and we are also assuming that the traveltime perturbations are also linearly related to CMB radius at that point.)"
   ]
  },
  {
   "cell_type": "markdown",
   "metadata": {},
   "source": [
    "For now, I have decided against rewriting ObsPy to allow us to do this without creating text files describing the Earth velocity/density models; instead we will base ourselves on iasp91 and vary the CMB radius a bit either way, and compute the change in traveltime therefrom."
   ]
  },
  {
   "cell_type": "markdown",
   "metadata": {},
   "source": [
    "## Installation"
   ]
  },
  {
   "cell_type": "markdown",
   "metadata": {},
   "source": [
    "Assuming you are using MacPorts, the following will get you to this stage:"
   ]
  },
  {
   "cell_type": "markdown",
   "metadata": {},
   "source": [
    "`$ sudo port install python27 py27-ipython py27-numpy py27-obspy`"
   ]
  },
  {
   "cell_type": "markdown",
   "metadata": {},
   "source": [
    "## How to change the model when changing the CMB radius"
   ]
  },
  {
   "cell_type": "markdown",
   "metadata": {},
   "source": [
    "There are a number of ways we could change our model when changing the CMB radius:\n",
    " 1. 'Consume' the layers of the mantle above, so the mantle velocity at the CMB changes, but remains the same as in the original model for this new CMB depth\n",
    " 2. 'Stretch/squash' the layers of the mantle above, so the mantle velocity at the CMB is the same, but the rest of the model changes\n",
    " 3. Hybrid of the previous two, where we stretch/squash the mantle above, but only up to some radius above the CMB.\n",
    "\n",
    "Option 1 might be physical, or might not, but is practically the hardest at this instant because we need to do more manual twiddling of the model in Python (splitting up layers and so on).\n",
    "\n",
    "Option 2 isn't really desirable because the whole Earth model will change and affect everything, including the location of the mantle discontinuities.  This will have a large effect on both P and PcP, and isn't justified by what we think we know about CMB topography.\n",
    "\n",
    "In the rest of this we will employ method 3, stretching the bottom layer of the model only."
   ]
  },
  {
   "cell_type": "markdown",
   "metadata": {},
   "source": [
    "## Creating an Earth model file in Python"
   ]
  },
  {
   "cell_type": "markdown",
   "metadata": {},
   "source": [
    "It turns out to easily modify a builtin model in the distance-velocity domain, rather than the tau-p domain, we need to begin right at the beginning, reading in the layered velocity model.  These are stored as 'tvel'-format files.\n",
    "\n",
    "We can get the list of installed tvel files with the get_builtin_tvel_files() function:"
   ]
  },
  {
   "cell_type": "code",
   "execution_count": 1,
   "metadata": {
    "collapsed": false
   },
   "outputs": [
    {
     "name": "stdout",
     "output_type": "stream",
     "text": [
      "[u'/Users/nowacki/Applications/ObsPy/obspy/taup/data/ak135.tvel', u'/Users/nowacki/Applications/ObsPy/obspy/taup/data/iasp91.tvel']\n"
     ]
    }
   ],
   "source": [
    "import obspy.taup\n",
    "import numpy as np\n",
    "# Only run this in the notebook and let us use the function by importing this file\n",
    "if __name__ == \"__main__\":\n",
    "    tvel_files = obspy.taup.taup_create.get_builtin_tvel_files()\n",
    "    print tvel_files"
   ]
  },
  {
   "cell_type": "markdown",
   "metadata": {},
   "source": [
    "Let's choose the iasp91 file:"
   ]
  },
  {
   "cell_type": "code",
   "execution_count": 2,
   "metadata": {
    "collapsed": true
   },
   "outputs": [],
   "source": [
    "    file = tvel_files[1]"
   ]
  },
  {
   "cell_type": "markdown",
   "metadata": {},
   "source": [
    "ObsPy defines some functions to read in a tvel file and look at its contents, so read in the model file:"
   ]
  },
  {
   "cell_type": "code",
   "execution_count": 3,
   "metadata": {
    "collapsed": false
   },
   "outputs": [
    {
     "name": "stdout",
     "output_type": "stream",
     "text": [
      "CMB depth = 2889.0 km for model file  /Users/nowacki/Applications/ObsPy/obspy/taup/data/iasp91.tvel\n"
     ]
    }
   ],
   "source": [
    "    model = obspy.taup.velocity_model.VelocityModel.readVelocityFile(file)\n",
    "    print \"CMB depth =\", model.cmbDepth, \"km for model file \", file"
   ]
  },
  {
   "cell_type": "markdown",
   "metadata": {},
   "source": [
    "Note the CMB is at 2889.0.  We can perturb this manually, and then use this model file to create a TauPy model."
   ]
  },
  {
   "cell_type": "code",
   "execution_count": 4,
   "metadata": {
    "collapsed": false
   },
   "outputs": [
    {
     "name": "stdout",
     "output_type": "stream",
     "text": [
      "(2839.33, 2889.0, 13.6793, 13.6908, 7.2892, 7.3015, 5.5284, 5.5515, 1000.0, 1000.0, 2000.0, 2000.0)\n",
      "(2889.0, 2939.33, 8.0088, 8.0963, 0.0, 0.0, 9.9145, 9.9942, 1000.0, 1000.0, 2000.0, 2000.0)\n"
     ]
    }
   ],
   "source": [
    "    icmb = model.layerNumberAbove(model.cmbDepth)\n",
    "    # layerNumberAbove returns an array\n",
    "    icmb = icmb[0]\n",
    "    print model.layers[icmb]\n",
    "    print model.layers[icmb+1]\n",
    "    # Fields are: depth to top of layer, depth to bottom of layer, Vp at top, Vp at bottom,\n",
    "    #             Vs at top, Vs at bottom, rho at top, rho at bottom, Qp at top, Qp at bottom, Qs at top, Qs at bottom"
   ]
  },
  {
   "cell_type": "code",
   "execution_count": 5,
   "metadata": {
    "collapsed": false
   },
   "outputs": [
    {
     "name": "stdout",
     "output_type": "stream",
     "text": [
      "(2839.33, 2884.0, 13.6793, 13.6908, 7.2892, 7.3015, 5.5284, 5.5515, 1000.0, 1000.0, 2000.0, 2000.0)\n",
      "(2884.0, 2939.33, 8.0088, 8.0963, 0.0, 0.0, 9.9145, 9.9942, 1000.0, 1000.0, 2000.0, 2000.0)\n"
     ]
    }
   ],
   "source": [
    "    # Create two models, one with and one without CMB perturbation\n",
    "    model_perturb = obspy.taup.velocity_model.VelocityModel.readVelocityFile(file)\n",
    "    # CMB warped upwards by 5 km\n",
    "    dc = 5\n",
    "    model_perturb.layers[icmb][1] -= dc\n",
    "    model_perturb.layers[icmb+1][0] -= dc\n",
    "    print model_perturb.layers[icmb]\n",
    "    print model_perturb.layers[icmb+1]"
   ]
  },
  {
   "cell_type": "markdown",
   "metadata": {},
   "source": [
    "So, we now have two models, one with and one without a perturbation to the CMB.  Using these velocity models, we can create slowness models, which can be turned into TauPy classes (tau-p models), and then calculate everything else we need to know:"
   ]
  },
  {
   "cell_type": "code",
   "execution_count": 7,
   "metadata": {
    "collapsed": false
   },
   "outputs": [],
   "source": [
    "    #TODO: The first time this is run, a warning is returned, but the model is still created.\n",
    "    #      This needs investigating, but agrees with the expected results.\n",
    "    smodel = obspy.taup.slowness_model.SlownessModel(model)\n",
    "    smodel_perturb = obspy.taup.slowness_model.SlownessModel(model_perturb)\n",
    "    tpmodel = obspy.taup.tau_model.TauModel(smodel)\n",
    "    tpmodel_perturb = obspy.taup.tau_model.TauModel(smodel_perturb)"
   ]
  },
  {
   "cell_type": "markdown",
   "metadata": {},
   "source": [
    "Using the tau-p models (tpmodel, tpmodel_perturb), get the travel times:"
   ]
  },
  {
   "cell_type": "code",
   "execution_count": 8,
   "metadata": {
    "collapsed": false
   },
   "outputs": [
    {
     "name": "stdout",
     "output_type": "stream",
     "text": [
      "2 arrivals\n",
      "\tP phase arrival at 768.164 seconds\n",
      "\tPcP phase arrival at 769.169 seconds\n",
      "2 arrivals\n",
      "\tP phase arrival at 768.164 seconds\n",
      "\tPcP phase arrival at 769.109 seconds\n",
      "Difference due to 5 km upward deflection at 90 degrees for an event at 100 km is -0.0598909290527 s\n"
     ]
    }
   ],
   "source": [
    "    m = obspy.taup.TauPyModel()\n",
    "    m_perturb = obspy.taup.TauPyModel()\n",
    "    m.model = tpmodel\n",
    "    m_perturb.model = tpmodel_perturb\n",
    "    depth = 100\n",
    "    distance = 90\n",
    "    arr = m.get_travel_times(depth, distance, phase_list=['PcP', 'P'])\n",
    "    arr_perturb = m_perturb.get_travel_times(depth, distance, phase_list=['PcP', 'P'])\n",
    "    print arr\n",
    "    print arr_perturb\n",
    "    print \"Difference due to\", dc, \"km upward deflection at\", distance, \"degrees for an event at\", depth, \\\n",
    "        \"km is\", arr_perturb[1].time - arr[1].time, \"s\""
   ]
  },
  {
   "cell_type": "markdown",
   "metadata": {},
   "source": [
    "## Making it into a function"
   ]
  },
  {
   "cell_type": "markdown",
   "metadata": {},
   "source": [
    "Instead of all those steps, let's allow us to go from a file to a TauPyModel in one go, with a function requiring only the CMB perturbation:"
   ]
  },
  {
   "cell_type": "code",
   "execution_count": 9,
   "metadata": {
    "collapsed": true
   },
   "outputs": [],
   "source": [
    "def get_iasp91_cmb_perturbed_model(dc):\n",
    "    \"\"\"\n",
    "    Return a perturbed version of the inbuilt iasp91 model, where the CMB is shifted\n",
    "    up or down by dc km.  Positive values shift the CMB up, and squash the bottom layer in\n",
    "    iasp91 so that the velocity at the CMB is the same when the CMB is perturbed.\n",
    "    Arguments:\n",
    "        dc : Perturbation to the CMB depth / km.  Positive dc is towards the surface.\n",
    "    Returns a TauPyModel instance.\n",
    "    \"\"\"\n",
    "    import os\n",
    "    import glob\n",
    "    import sys\n",
    "    from obspy.taup.taup_create import __DATA_DIR\n",
    "    # Find inbuilt model file for iasp91, called iasp91.tvel\n",
    "    tvel_files = glob.glob(os.path.join(__DATA_DIR, \"iasp91.tvel\"))\n",
    "    if len(tvel_files) != 1:\n",
    "        sys.stdout.write(\"get_iasp91_cmb_perturbed_model: Error: Cannot find iasp91.tvel file\")\n",
    "        sys.exit(1)\n",
    "    file = tvel_files[0]\n",
    "    # Create velocity model from this\n",
    "    model = obspy.taup.velocity_model.VelocityModel.readVelocityFile(file)\n",
    "    # Perturb bottom layer\n",
    "    icmb = model.layerNumberAbove(model.cmbDepth)[0]\n",
    "    model.layers[icmb][1] -= dc\n",
    "    model.layers[icmb+1][0] -= dc\n",
    "    # Create slowness model from velocity model\n",
    "    smodel = obspy.taup.slowness_model.SlownessModel(model)\n",
    "    # Create tau-p model from slowness model\n",
    "    tpmodel = obspy.taup.tau_model.TauModel(smodel)\n",
    "    # Create new instance of TauPyModel class, and replace it with the perturbed one\n",
    "    m = obspy.taup.TauPyModel()\n",
    "    m.model = tpmodel\n",
    "    return m"
   ]
  },
  {
   "cell_type": "markdown",
   "metadata": {},
   "source": [
    "## Using the function to construct dt-dc curves"
   ]
  },
  {
   "cell_type": "markdown",
   "metadata": {},
   "source": [
    "We now have a sensible way to create models and compute the difference in traveltime we expect for a given change in the radius of the CMB, assuming the velocities in the bottom layer of the model are stretched to have the same minimum and maximum.\n",
    "\n",
    "Let's create a curve for a few different distance ranges showing how traveltimes vary with changes in the CMB radius.\n",
    "\n",
    "*This will take quite a few seconds*"
   ]
  },
  {
   "cell_type": "code",
   "execution_count": 10,
   "metadata": {
    "collapsed": false
   },
   "outputs": [],
   "source": [
    "if __name__ == \"__main__\":\n",
    "    # Model against which we compare\n",
    "    iasp91 = obspy.taup.TauPyModel(\"iasp91\")\n",
    "    # Event parameters\n",
    "    depth = 100.\n",
    "    distances = np.array([30., 55., 80.])\n",
    "    nd = len(distances)\n",
    "    dcs = np.arange(-15., 16., 5.)\n",
    "    ndc = len(dcs)\n",
    "    # Array holding the traveltimes, with dimensions (distance, dc)\n",
    "    dt = np.zeros([nd, ndc])\n",
    "    for idc in range(ndc):\n",
    "        dc = dcs[idc]\n",
    "        # Create model for this deflection\n",
    "        m = get_iasp91_cmb_perturbed_model(dc)\n",
    "        for id in range(nd):\n",
    "            d = distances[id]\n",
    "            arr_iasp91 = iasp91.get_travel_times(depth, d, phase_list=['P', 'PcP'])\n",
    "            arr = m.get_travel_times(depth, d, phase_list=['P', 'PcP'])\n",
    "            dt[id,idc] = arr[1].time - arr_iasp91[1].time"
   ]
  },
  {
   "cell_type": "code",
   "execution_count": 11,
   "metadata": {
    "collapsed": false
   },
   "outputs": [
    {
     "data": {
      "image/png": "[encoded data removed]",
      "text/plain": [
       "<matplotlib.figure.Figure at 0x10d27be50>"
      ]
     },
     "metadata": {},
     "output_type": "display_data"
    }
   ],
   "source": [
    "    %matplotlib inline\n",
    "    import matplotlib.pyplot as plt\n",
    "    dt_30deg = dt[0,:]\n",
    "    dt_55deg = dt[1,:]\n",
    "    dt_80deg = dt[2,:]\n",
    "    p = plt.plot(dcs, dt_30deg, color='red', label=r\"$\\Delta = 30^\\circ$\")\n",
    "    p = plt.plot(dcs, dt_55deg, color='purple', label=r\"$\\Delta = 55^\\circ$\")\n",
    "    p = plt.plot(dcs, dt_80deg, color='blue', label=r\"$\\Delta = 80^\\circ$\")\n",
    "    plt.xlabel(r\"Deflection on CMB, $\\delta c$ / km\")\n",
    "    plt.ylabel(r\"$\\delta t = t_\\mathrm{perturb} - t_\\mathrm{iasp91}$ / s\")\n",
    "    plt.legend()\n",
    "    plt.show()"
   ]
  },
  {
   "cell_type": "markdown",
   "metadata": {},
   "source": [
    "## Conclusions"
   ]
  },
  {
   "cell_type": "markdown",
   "metadata": {},
   "source": [
    "It's slow, but it works, and it only needs to be done once.  It seems clear that for differences in CMB radius of up to 15 km, the traveltime perturbation in PcP is very close to linear.  We can therefore construct travel time tables for earthquake depth, epicentral distance and CMB deflection, and optionally fit an analytical surface describing the derivatives.\n",
    "\n",
    "### Further work\n",
    "- Try doing the same, but applying option 1 above; i.e., consume the mantle rather than stretch the layers.  This will not have a large effect, since the velocity variation over the last layer in the mantle in iasp91 is 0.08 %.\n",
    "- Clean up the code to handle errors better.\n",
    "- Allow larger perturbations: this will involve improving our method of modifying the velocity models so that we can consume/stretch an arbitrary number of model layers.  Whether or not this invalidated the linearising assumptions behind computing the derivatives in the first place is another matter."
   ]
  }
 ],
 "metadata": {
  "kernelspec": {
   "display_name": "Python 2",
   "language": "python",
   "name": "python2"
  },
  "language_info": {
   "codemirror_mode": {
    "name": "ipython",
    "version": 2
   },
   "file_extension": ".py",
   "mimetype": "text/x-python",
   "name": "python",
   "nbconvert_exporter": "python",
   "pygments_lexer": "ipython2",
   "version": "2.7.10"
  }
 },
 "nbformat": 4,
 "nbformat_minor": 0
}

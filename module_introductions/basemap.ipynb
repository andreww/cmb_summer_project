{
 "metadata": {
  "name": "",
  "signature": "sha256:ed921a0da3d35c4a13bda3f6e4e745bcd1e343f2f0728cd8e7ef6df591fc86df"
 },
 "nbformat": 3,
 "nbformat_minor": 0,
 "worksheets": [
  {
   "cells": [
    {
     "cell_type": "heading",
     "level": 1,
     "metadata": {},
     "source": [
      "Matplotlib basemap"
     ]
    },
    {
     "cell_type": "markdown",
     "metadata": {},
     "source": [
      "We can use the basemap toolkit (part of matplotlib)\n",
      "to plot data onto maps. See http://matplotlib.org/basemap/ \n",
      "for documentation."
     ]
    },
    {
     "cell_type": "heading",
     "level": 2,
     "metadata": {},
     "source": [
      "Installation"
     ]
    },
    {
     "cell_type": "markdown",
     "metadata": {},
     "source": [
      "I just did:\n",
      "   \n",
      "    conda install basemap"
     ]
    },
    {
     "cell_type": "heading",
     "level": 2,
     "metadata": {},
     "source": [
      "Points on a simple map"
     ]
    },
    {
     "cell_type": "code",
     "collapsed": false,
     "input": [
      "# First import the modules\n",
      "%matplotlib inline\n",
      "import numpy as np\n",
      "import matplotlib \n",
      "import matplotlib.pyplot as plt\n",
      "import mpl_toolkits.basemap as basemap\n",
      "# Make the figures big\n",
      "plt.rcParams['figure.figsize'] = (12, 8)"
     ],
     "language": "python",
     "metadata": {},
     "outputs": []
    },
    {
     "cell_type": "code",
     "collapsed": false,
     "input": [
      "# Make some random data - NB: not uniform on sphere\n",
      "num_points = 300\n",
      "lat = 180.0 * np.random.random(num_points) - 90.0\n",
      "lon = 360.0 * np.random.random(num_points) - 180.0\n",
      "value = np.random.random(num_points)"
     ],
     "language": "python",
     "metadata": {},
     "outputs": []
    },
    {
     "cell_type": "code",
     "collapsed": false,
     "input": [
      "# Now create a figure \n",
      "#    - I'll use the OO interface to matplotlib\n",
      "\n",
      "fig = plt.figure()\n",
      "axis = fig.add_subplot(1,1,1)\n",
      "map = basemap.Basemap(projection='hammer',\n",
      "                      lat_0=0.0, lon_0=0.0, resolution='c', ax=axis)\n",
      "\n",
      "map.drawcoastlines()\n",
      "map.drawmapboundary()\n",
      "map.drawmeridians(np.arange(-180,180,30), labels=[0,0,0,0])\n",
      "map.drawparallels(np.arange(-90,90,30), labels=[1,0,0,0])\n",
      "\n",
      "# we need to find the x, y position of the data given\n",
      "# the map projection.\n",
      "lonp, latp = map(lon, lat)\n",
      "\n",
      "# plot the data\n",
      "sc = map.scatter(lonp, latp, c=value, cmap=plt.cm.RdBu, s=50)\n",
      "\n",
      "plt.colorbar(sc)\n",
      "plt.show()"
     ],
     "language": "python",
     "metadata": {},
     "outputs": []
    },
    {
     "cell_type": "code",
     "collapsed": false,
     "input": [],
     "language": "python",
     "metadata": {},
     "outputs": []
    }
   ],
   "metadata": {}
  }
 ]
}